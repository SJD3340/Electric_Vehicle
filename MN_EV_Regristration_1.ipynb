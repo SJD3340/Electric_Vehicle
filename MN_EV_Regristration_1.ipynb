{
 "cells": [
  {
   "cell_type": "code",
   "execution_count": null,
   "id": "174c592e-f532-41e5-8e5c-99e7570f9174",
   "metadata": {},
   "outputs": [],
   "source": [
    "# Import all the Python libraries required.\n",
    "import requests\n",
    "import pandas as pd\n",
    "import json\n",
    "import numpy as np\n",
    "from datetime import datetime\n",
    "import csv\n",
    "import matplotlib.pyplot as plt"
   ]
  },
  {
   "cell_type": "code",
   "execution_count": 2,
   "id": "6f417ec2-49fa-4f83-9356-8cd7cad9025f",
   "metadata": {},
   "outputs": [],
   "source": [
    "url = \"https://www.atlasevhub.com/public/dmv/MN_EV_Registrations.csv\""
   ]
  },
  {
   "cell_type": "code",
   "execution_count": null,
   "id": "248e1182-8b65-4614-8570-bb41b4b34b87",
   "metadata": {},
   "outputs": [],
   "source": [
    "df = pd.read_csv(url)"
   ]
  },
  {
   "cell_type": "code",
   "execution_count": null,
   "id": "1091df31-69cb-4e9f-bde7-9a6bdd41dad6",
   "metadata": {},
   "outputs": [],
   "source": [
    "df.head()"
   ]
  },
  {
   "cell_type": "code",
   "execution_count": 5,
   "id": "5be2b19e-24ce-42bb-9714-94347c9a7651",
   "metadata": {},
   "outputs": [],
   "source": [
    "df[\"Registration Year\"] = pd.to_datetime(df[\"Registration Date\"])"
   ]
  },
  {
   "cell_type": "code",
   "execution_count": 6,
   "id": "8e7fabe6-2bb0-4510-af61-4300008d2636",
   "metadata": {},
   "outputs": [],
   "source": [
    "df[\"Registration Year\"] = df['Registration Year'].dt.strftime(\"%Y\")"
   ]
  },
  {
   "cell_type": "code",
   "execution_count": null,
   "id": "95b7bf26-5327-48f5-bdc7-99189158c807",
   "metadata": {},
   "outputs": [],
   "source": [
    "df.head()"
   ]
  },
  {
   "cell_type": "code",
   "execution_count": 8,
   "id": "dcaa0723-85e1-46f4-a4be-ee3d8d9e409f",
   "metadata": {},
   "outputs": [],
   "source": [
    "grouped = df.groupby(\"Vehicle Make\")"
   ]
  },
  {
   "cell_type": "code",
   "execution_count": 9,
   "id": "9f555022-838b-4650-b9c5-7faefa22c6ba",
   "metadata": {},
   "outputs": [],
   "source": [
    "df_filtered = grouped.filter(lambda x: x[\"Vehicle Count\"].sum() >= 100.)"
   ]
  },
  {
   "cell_type": "code",
   "execution_count": null,
   "id": "c8dc104b-2424-487d-adcc-90f7d8480cf4",
   "metadata": {},
   "outputs": [],
   "source": [
    "df_filtered"
   ]
  },
  {
   "cell_type": "code",
   "execution_count": 11,
   "id": "1fc474ba-937c-495b-8cfa-4ba4cc0a8180",
   "metadata": {},
   "outputs": [],
   "source": [
    "df_new = df_filtered[[\"ZIP Code\", \"Vehicle Make\", \"Vehicle Model\", \"Registration Year\", \"Vehicle Model Year\"]]"
   ]
  },
  {
   "cell_type": "code",
   "execution_count": null,
   "id": "4cde3b58-c53b-4033-b268-a7ea409c6c2f",
   "metadata": {},
   "outputs": [],
   "source": [
    "df_new.head()"
   ]
  },
  {
   "cell_type": "code",
   "execution_count": 13,
   "id": "ba7ef2c0-9d14-4227-8bd8-1b13485b6072",
   "metadata": {},
   "outputs": [],
   "source": [
    "df_new.to_csv(\"/home/jovyan/homework/hw2/data/FILTERED_MN_EV_Registrations.csv\")"
   ]
  },
  {
   "cell_type": "markdown",
   "id": "63ab6f28-8675-449a-80e5-d01e4cd21ed1",
   "metadata": {},
   "source": [
    "# Task: Plot the data using a Bar Graph"
   ]
  },
  {
   "cell_type": "code",
   "execution_count": null,
   "id": "1de839ed-915b-46c4-9bd5-2a5705dd8824",
   "metadata": {},
   "outputs": [],
   "source": [
    "df_new[\"Frequency\"] = 1"
   ]
  },
  {
   "cell_type": "code",
   "execution_count": 15,
   "id": "028b6adc-8c5d-4b91-aae6-87bcd54ef9bb",
   "metadata": {},
   "outputs": [],
   "source": [
    "df_new_grouped = df_new.groupby(\"Registration Year\").count()"
   ]
  },
  {
   "cell_type": "code",
   "execution_count": null,
   "id": "0deac31c-b42f-494a-a022-5dd3398ffeb7",
   "metadata": {},
   "outputs": [],
   "source": [
    "df_new_grouped.head()"
   ]
  },
  {
   "cell_type": "code",
   "execution_count": 17,
   "id": "96194ec5-076f-4450-b70e-26ed8c8d8a88",
   "metadata": {},
   "outputs": [],
   "source": [
    "df_new_grouped_bar = df_new_grouped[\"Frequency\"]"
   ]
  },
  {
   "cell_type": "code",
   "execution_count": null,
   "id": "ea0abeaf-0951-43ac-aa46-2c358a9bd79f",
   "metadata": {},
   "outputs": [],
   "source": [
    "df_new_grouped_bar"
   ]
  },
  {
   "cell_type": "code",
   "execution_count": null,
   "id": "97bf3c6c-d497-4abc-b7b3-f5f46409718a",
   "metadata": {},
   "outputs": [],
   "source": [
    "df_new_grouped_bar.plot(kind = \"bar\", title = \"Frequency of Registrations by Year: MN EV's Since 2010\")"
   ]
  },
  {
   "cell_type": "markdown",
   "id": "fbe55adb-b8f6-4927-a29d-89007a22dcea",
   "metadata": {},
   "source": [
    "# Task:  React to the following statements:"
   ]
  },
  {
   "cell_type": "markdown",
   "id": "5bd4bbd8-dc1a-4b9a-8458-e3b651d443d6",
   "metadata": {},
   "source": [
    "##  Statement:  The largest number of new registrations was in 2023."
   ]
  },
  {
   "cell_type": "markdown",
   "id": "ae23a498-6fbc-495f-b137-dc51621c6828",
   "metadata": {},
   "source": [
    "##  A:  Evidenced by the above bar chart, the largest number of new EV registrations in the state of MN occurred in 2023 with a total number of 124,237 EV registrations."
   ]
  },
  {
   "cell_type": "markdown",
   "id": "45052a47-a1ac-48f8-bbdd-b4b31d9bad96",
   "metadata": {},
   "source": [
    "## Statement:  The number of new registrations slowed in 2019."
   ]
  },
  {
   "cell_type": "markdown",
   "id": "460ff1df-6da6-4e9f-aa84-89fec3e8e962",
   "metadata": {},
   "source": [
    "##  A:  Evidenced by the above bar chart, the number of new EV registrations in MN did indeed slow in 2019.  Registrations declined from 12,405 in 2018 to 5,425 in 2019.  I originally considered Covid to be the cause, however, Covid first appeared in China in December 2019 and did not appear in the U.S. until March of 2020.  Then I considered gas prices.  The drop in EV registrations could be correlated to a drop in gas prices between 2018 and 2019.  However, after doing some quick research, U.S. gas prices actually rose between 2018 and 2019 which should have created greater demand for EV.  Finally, I googled why EV sales dropped in the U.S. during 2019.  According to several articles the decrease in EV sales in 2019 was a result of limiited availability and restricted supply.  "
   ]
  },
  {
   "cell_type": "markdown",
   "id": "68f25a51-14e8-4f06-af31-6bd72f1e945c",
   "metadata": {},
   "source": [
    "# (30%) Use GeoPandas to analyze and map datasets"
   ]
  },
  {
   "cell_type": "code",
   "execution_count": null,
   "id": "767f034f-bbcb-49e4-b97f-927b5981c67d",
   "metadata": {},
   "outputs": [],
   "source": [
    "!pip install geopandas mapclassify folium"
   ]
  },
  {
   "cell_type": "code",
   "execution_count": 21,
   "id": "69df112b-14fe-493c-b988-40f895b05906",
   "metadata": {},
   "outputs": [],
   "source": [
    "import geopandas as gpd"
   ]
  },
  {
   "cell_type": "code",
   "execution_count": null,
   "id": "f5772394-3b0b-4ff8-9888-ec13b67437aa",
   "metadata": {},
   "outputs": [],
   "source": [
    "!wget https://resources.gisdata.mn.gov/pub/gdrs/data/pub/us_mn_state_metc/society_census_acs/shp_society_census_acs.zip"
   ]
  },
  {
   "cell_type": "code",
   "execution_count": null,
   "id": "3ce1b991-9ef2-43c3-8208-007256e5abe1",
   "metadata": {},
   "outputs": [],
   "source": [
    "!wget https://resources.gisdata.mn.gov/pub/gdrs/data/pub/us_mn_state_mngeo/bdry_zip_code_tabulation_areas/shp_bdry_zip_code_tabulation_areas.zip"
   ]
  },
  {
   "cell_type": "code",
   "execution_count": null,
   "id": "b29aac30-5eee-4b60-8b24-2e7a140b775c",
   "metadata": {},
   "outputs": [],
   "source": [
    "!mkdir data && unzip shp_society_census_acs.zip -d data"
   ]
  },
  {
   "cell_type": "code",
   "execution_count": null,
   "id": "31884e29-1bdf-48c1-b113-82124fd17b74",
   "metadata": {},
   "outputs": [],
   "source": [
    "!mkdir shp && unzip shp_bdry_zip_code_tabulation_areas.zip -d shp"
   ]
  },
  {
   "cell_type": "code",
   "execution_count": 26,
   "id": "8cbc4723-1bd2-4599-a8da-09d6dd9a816c",
   "metadata": {},
   "outputs": [],
   "source": [
    "df_geo = gpd.read_file(\"shp/\")"
   ]
  },
  {
   "cell_type": "code",
   "execution_count": null,
   "id": "6b85251a-2d2b-4094-890f-387ab85eb50a",
   "metadata": {},
   "outputs": [],
   "source": [
    "df_geo.head()"
   ]
  },
  {
   "cell_type": "code",
   "execution_count": null,
   "id": "217a6171-4bb8-4fae-a0f3-264246c44205",
   "metadata": {},
   "outputs": [],
   "source": [
    "df_geo.columns"
   ]
  },
  {
   "cell_type": "code",
   "execution_count": null,
   "id": "fe04e5dc-4c30-4bfb-b82d-e414a39fc7c6",
   "metadata": {},
   "outputs": [],
   "source": [
    "df_geo.plot()"
   ]
  },
  {
   "cell_type": "code",
   "execution_count": 30,
   "id": "d30570f3-2605-43b5-88c8-5d4035633d5c",
   "metadata": {},
   "outputs": [],
   "source": [
    "df_acs = gpd.read_file(\"data/CensusACSZipCode.dbf\")"
   ]
  },
  {
   "cell_type": "code",
   "execution_count": null,
   "id": "f74deed9-4ca1-4b4d-92ed-d926cb43b770",
   "metadata": {},
   "outputs": [],
   "source": [
    "df_geo.shape"
   ]
  },
  {
   "cell_type": "code",
   "execution_count": null,
   "id": "7483b586-49ae-404d-889e-1b777b65de3f",
   "metadata": {},
   "outputs": [],
   "source": [
    "df_acs.shape"
   ]
  },
  {
   "cell_type": "code",
   "execution_count": null,
   "id": "7dc1375d-0776-46ce-b5e8-e87f9a3bac57",
   "metadata": {},
   "outputs": [],
   "source": [
    "df_acs.head()"
   ]
  },
  {
   "cell_type": "code",
   "execution_count": null,
   "id": "645c22d3-3d4f-4acb-9838-f7092222b3b2",
   "metadata": {},
   "outputs": [],
   "source": [
    "df_geo.GEOID20"
   ]
  },
  {
   "cell_type": "code",
   "execution_count": null,
   "id": "3726435e-5da5-4d9d-b41b-922e8fb878c5",
   "metadata": {},
   "outputs": [],
   "source": [
    "df_acs.GEOID2"
   ]
  },
  {
   "cell_type": "code",
   "execution_count": 36,
   "id": "93e958c2-e3c4-4fbd-a622-e1e50e954104",
   "metadata": {},
   "outputs": [],
   "source": [
    "df_merged = df_geo.merge(gpd.GeoDataFrame(df_acs), left_on=\"GEOID20\", right_on=\"GEOID2\")"
   ]
  },
  {
   "cell_type": "code",
   "execution_count": null,
   "id": "eed10867-4f16-4f15-bd31-ec504be1b679",
   "metadata": {},
   "outputs": [],
   "source": [
    "df_merged.geometry_y"
   ]
  },
  {
   "cell_type": "code",
   "execution_count": 38,
   "id": "c8c4abf1-8a09-4e4b-a6d5-11bde66b4ca2",
   "metadata": {},
   "outputs": [],
   "source": [
    "df_merged = df_merged.set_geometry(\"geometry_x\")"
   ]
  },
  {
   "cell_type": "code",
   "execution_count": null,
   "id": "66755672-01b4-4034-80c4-c181e83ef4a2",
   "metadata": {},
   "outputs": [],
   "source": [
    "df_merged.plot(\"POPTOTAL\")"
   ]
  },
  {
   "cell_type": "markdown",
   "id": "c9d3306c-800f-45e3-9d64-fe79f2f1e468",
   "metadata": {},
   "source": [
    "# § Task: Explore variables in the data"
   ]
  },
  {
   "cell_type": "markdown",
   "id": "a71ccd31-3b13-41b7-b370-4b662d054af7",
   "metadata": {},
   "source": [
    "# Answer the following questions:\n",
    "\n",
    "## 1) What is the mean Houshold Income (MEDIANHHI) in the dataset?\n",
    "## 2) How does this compare with the median HHI for the entire US in 2020? (You will need to find that yourself.)\n",
    "## 3) Which ZIP code has the highest HHI?\n",
    "## 4) What are the top 5 ZIP codes with the largest percent population under 18 years of age? (You will need to remember to use the total population of the ZIP as the denomenator for each ZIP.)\n",
    "## 5) Which 5 ZIP codes have the highest percent of professional / graduate degrees?"
   ]
  },
  {
   "cell_type": "markdown",
   "id": "f602b233-bf6a-4419-9f6f-06835aeaddea",
   "metadata": {},
   "source": [
    "---"
   ]
  },
  {
   "cell_type": "markdown",
   "id": "48b06caf-935d-4dd7-ad79-b76c1df299a5",
   "metadata": {},
   "source": [
    "### 1) Answer:"
   ]
  },
  {
   "cell_type": "code",
   "execution_count": 40,
   "id": "3ac63a54-9fa1-491a-b152-7cf91f1bc8b4",
   "metadata": {},
   "outputs": [],
   "source": [
    "df_mhi = df_acs[\"MEDIANHHI\"].mean()"
   ]
  },
  {
   "cell_type": "code",
   "execution_count": null,
   "id": "9290705b-baa2-49b5-838d-94826df4a08e",
   "metadata": {},
   "outputs": [],
   "source": [
    "df_mhi # Mean Household Income for Dataset"
   ]
  },
  {
   "cell_type": "markdown",
   "id": "c0ea7f27-789f-46f1-b525-6991d69b9db7",
   "metadata": {},
   "source": [
    "### 2) Answer:"
   ]
  },
  {
   "cell_type": "markdown",
   "id": "a3d7c2e5-dfd8-47ba-ab7c-e34b969519ec",
   "metadata": {},
   "source": [
    "### Median household income in the U.S. for 2020 was 76,660.\n",
    "### Median household income in MN for 2020 was 74,999\n",
    "### Therefore, the MEDIANHHI in MN for 2020 was slightly less compared to the rest of the U.S."
   ]
  },
  {
   "cell_type": "markdown",
   "id": "81064d8a-b6c2-4018-897d-f2d2d99d7021",
   "metadata": {},
   "source": [
    "### 3) Answer:"
   ]
  },
  {
   "cell_type": "code",
   "execution_count": 42,
   "id": "e8e668a0-8734-416a-9c7e-1676c4d83d0f",
   "metadata": {},
   "outputs": [],
   "source": [
    "df_zip = df_acs[[\"GEOG_UNIT\", \"MEDIANHHI\"]]"
   ]
  },
  {
   "cell_type": "code",
   "execution_count": null,
   "id": "383420f0-589a-47c0-813f-9f5c4ff272b3",
   "metadata": {},
   "outputs": [],
   "source": [
    "df_zip.sort_values(\"MEDIANHHI\", ascending=False)"
   ]
  },
  {
   "cell_type": "markdown",
   "id": "fbddc6cd-cf4d-445e-beea-b1cc3e38ddc2",
   "metadata": {},
   "source": [
    "### Zip Code 55424 has the highest Median Household Income at 225,119."
   ]
  },
  {
   "cell_type": "markdown",
   "id": "dda1c59a-dc14-4838-9b34-806660be6ca9",
   "metadata": {},
   "source": [
    "### 4) Answer:"
   ]
  },
  {
   "cell_type": "code",
   "execution_count": 44,
   "id": "cc99cb2e-34ac-4e48-a473-00c523015875",
   "metadata": {},
   "outputs": [],
   "source": [
    "df_under = df_acs[[\"GEOG_UNIT\", \"AGEUNDER18\", \"POPTOTAL\"]]"
   ]
  },
  {
   "cell_type": "code",
   "execution_count": null,
   "id": "603fb97d-e069-4cbc-a225-3fd1d777f0ce",
   "metadata": {},
   "outputs": [],
   "source": [
    "df_under.head()"
   ]
  },
  {
   "cell_type": "code",
   "execution_count": null,
   "id": "37fe7991-1de6-46a0-9c2f-0c1cf2656b26",
   "metadata": {},
   "outputs": [],
   "source": [
    "df_under[\"%_Under_18\"] = 1"
   ]
  },
  {
   "cell_type": "code",
   "execution_count": null,
   "id": "49a6919a-b099-460b-9cf5-bd49a2f09280",
   "metadata": {},
   "outputs": [],
   "source": [
    "df_under.head()"
   ]
  },
  {
   "cell_type": "code",
   "execution_count": null,
   "id": "9b235af2-329a-4826-9dd2-9a18f931a973",
   "metadata": {},
   "outputs": [],
   "source": [
    "df_under[\"%_Under_18\"] = df_under[[\"AGEUNDER18\", \"POPTOTAL\"]].apply(lambda d: d[\"AGEUNDER18\"]/d[\"POPTOTAL\"], axis=1)"
   ]
  },
  {
   "cell_type": "code",
   "execution_count": null,
   "id": "f76ea1f6-25a2-4a78-afe4-d4d921d8e145",
   "metadata": {},
   "outputs": [],
   "source": [
    "df_under.sort_values(\"%_Under_18\", ascending=False)"
   ]
  },
  {
   "cell_type": "markdown",
   "id": "2eb7926c-4f28-414d-ac42-7d7c618bcfea",
   "metadata": {},
   "source": [
    "# 55029 - 60%, 56030 - 52.9%, 56666 - 49.2%, 56210 - 46.6%, and 54842 - 43.6%"
   ]
  },
  {
   "cell_type": "markdown",
   "id": "11c8958f-6939-41e2-a93f-6366fa03f1c7",
   "metadata": {},
   "source": [
    "### 5) Answer:"
   ]
  },
  {
   "cell_type": "code",
   "execution_count": 50,
   "id": "621c3dc4-42a2-4595-be93-02847f8d64ca",
   "metadata": {},
   "outputs": [],
   "source": [
    "df_pro = df_acs[[\"GEOG_UNIT\", \"GRADPROF\", \"POPTOTAL\"]]"
   ]
  },
  {
   "cell_type": "code",
   "execution_count": null,
   "id": "b79379e0-bf0e-4954-bfd2-a04e285bec2f",
   "metadata": {},
   "outputs": [],
   "source": [
    "df_pro.head()"
   ]
  },
  {
   "cell_type": "code",
   "execution_count": null,
   "id": "45857994-7f6d-4475-beed-550b6e02aed6",
   "metadata": {},
   "outputs": [],
   "source": [
    "df_pro[\"%_Grad/Prof\"] = df_pro[[\"GRADPROF\", \"POPTOTAL\"]].apply(lambda d: d[\"GRADPROF\"]/d[\"POPTOTAL\"], axis=1)"
   ]
  },
  {
   "cell_type": "code",
   "execution_count": null,
   "id": "7056e95f-6b9b-4f22-b2e2-648c5ef16b4d",
   "metadata": {},
   "outputs": [],
   "source": [
    "df_pro.sort_values(\"%_Grad/Prof\", ascending=False).head(5)"
   ]
  },
  {
   "cell_type": "markdown",
   "id": "041b22f7-f860-4b38-8ed9-4cfbc9350f97",
   "metadata": {},
   "source": [
    "### A correlation seems to be present between MedianHHI and %_Grad/Prof(which makes logical sense).  Zipcode 55424 has the third largest percent of adult population that completed post=bac, graduate, or professional degrees.  Zipcode 55424 also has the largest Median Household Income in MN."
   ]
  },
  {
   "cell_type": "markdown",
   "id": "b41851d7-c81d-4a18-a398-0111ef52c8a2",
   "metadata": {},
   "source": [
    "---"
   ]
  },
  {
   "cell_type": "markdown",
   "id": "75d7b722-35bc-4e7a-8a44-8c83fa3ecc62",
   "metadata": {},
   "source": [
    "# § Task: Plot an interactive demographics map of ZIP codes with high value homes"
   ]
  },
  {
   "cell_type": "markdown",
   "id": "c98e5fd1-b5d3-48ec-98c0-df7552babf24",
   "metadata": {},
   "source": [
    "## Use the ACS data to show the ZIP codes with homes greater than 0.5M (500K). You will need to do the following:\n",
    "\n",
    "### 1) Filter the data to the homes with value > 500 (in the ACS data)\n",
    "### 2) Aggregate those and use VAL_DENOM as the denomenator to get a percentage\n",
    "### 3) Add the calculated field to the filtered GeoDataFrame\n",
    "### 4) Run the GeoDataFrame.explore() function on the dataset"
   ]
  },
  {
   "cell_type": "markdown",
   "id": "0dcbacc5-a998-4cc5-9323-0d475e09a624",
   "metadata": {},
   "source": [
    "---"
   ]
  },
  {
   "cell_type": "markdown",
   "id": "813b061a-77c2-4676-b15e-ff47e5bb3112",
   "metadata": {},
   "source": [
    "### 1) Answer:"
   ]
  },
  {
   "cell_type": "code",
   "execution_count": 55,
   "id": "2ed2c561-ae10-448a-8756-3a16f18561c4",
   "metadata": {},
   "outputs": [],
   "source": [
    "result = df_merged[(df_merged[\"VAL500_749\"] > 0)|(df_merged[\"VAL750_999\"] > 0)|(df_merged[\"VAL1MIL\"] > 0)]"
   ]
  },
  {
   "cell_type": "code",
   "execution_count": null,
   "id": "7c1f46d6-157c-463e-b054-02734480cb00",
   "metadata": {},
   "outputs": [],
   "source": [
    "df_merged"
   ]
  },
  {
   "cell_type": "code",
   "execution_count": null,
   "id": "8dd5b77a-559e-43d9-b82d-079c10f57ceb",
   "metadata": {},
   "outputs": [],
   "source": [
    "result"
   ]
  },
  {
   "cell_type": "code",
   "execution_count": null,
   "id": "b4eebc15-0514-417a-bb0e-4e4578c0be74",
   "metadata": {},
   "outputs": [],
   "source": [
    "result[\"Aggregate_Value\"] = result[[\"VAL500_749\", \"VAL750_999\",\"VAL1MIL\", \"VAL_DENOM\"]].apply(lambda d: (d[\"VAL500_749\"] + d[\"VAL750_999\"] + d[\"VAL1MIL\"]) / d[\"VAL_DENOM\"], axis=1)"
   ]
  },
  {
   "cell_type": "code",
   "execution_count": null,
   "id": "e6834b84-3162-4c44-ae20-443488e27f64",
   "metadata": {},
   "outputs": [],
   "source": [
    "result.head()"
   ]
  },
  {
   "cell_type": "code",
   "execution_count": null,
   "id": "4c64eb28-12ab-47fa-862b-26d71e5a000b",
   "metadata": {
    "scrolled": true
   },
   "outputs": [],
   "source": [
    "result.explore(\"Aggregate_Value\", tooltip=False, popup=False)"
   ]
  },
  {
   "cell_type": "markdown",
   "id": "47aa72be-4f7a-4cd0-80a2-e099d79ac7e4",
   "metadata": {},
   "source": [
    "---"
   ]
  },
  {
   "cell_type": "markdown",
   "id": "73bf5fe5-0d90-4619-81dd-829af48ce1c2",
   "metadata": {},
   "source": [
    "# § Task: Plot demographics and EV\n",
    "\n",
    "## You will now take your EV dataset from the first part and analyze it with the ACS data.\n",
    "\n",
    "## You will find that GeoPandas works just like Pandas in allowing for operations on DataFrames.\n",
    "\n",
    "## You will take the EV data and merge it with eht ACS data, and make the following plots:\n",
    "\n",
    "### 1.) Plot (using GeoPandas plot()) MEDIANHHI using the ZCTA\n",
    "### 2.) Plot (using GeoPandas plot()) HOMEOWNPCT using the ZCTA\n",
    "### 3.) Create a correlation matrix of MEDIANHHI  and ev_count for all ZIP codes\n",
    "### 4.) Plot an interactive plot (using explore()) of the correlation; to do this you will need to find the correlation for all ZIP codes then merge these back into the GeoDataFrame."
   ]
  },
  {
   "cell_type": "code",
   "execution_count": 75,
   "id": "0b9032a7-5b6f-4246-a95a-416c090dd686",
   "metadata": {},
   "outputs": [],
   "source": [
    "df_ev = df_new.value_counts(\"ZIP Code\")"
   ]
  },
  {
   "cell_type": "code",
   "execution_count": 76,
   "id": "b1948cd0-3d70-4bae-b38f-49983dd859d8",
   "metadata": {},
   "outputs": [],
   "source": [
    "data_ev = pd.DataFrame(df_ev)"
   ]
  },
  {
   "cell_type": "code",
   "execution_count": 77,
   "id": "7072d4d6-3c68-403d-9705-80d7ef4be43f",
   "metadata": {},
   "outputs": [],
   "source": [
    "data_ev = data_ev.reset_index()"
   ]
  },
  {
   "cell_type": "code",
   "execution_count": 78,
   "id": "7dd4cbb0-665a-4f7f-85b2-17ab53b1c04a",
   "metadata": {},
   "outputs": [],
   "source": [
    "data_ev.columns = [\"ZIP Code\", \"EV Count\"]"
   ]
  },
  {
   "cell_type": "code",
   "execution_count": null,
   "id": "ce3392ba-7215-45e6-be94-1be7575d3c1e",
   "metadata": {},
   "outputs": [],
   "source": [
    "data_ev.head()"
   ]
  },
  {
   "cell_type": "code",
   "execution_count": 80,
   "id": "03de885f-1ff4-4c41-a3ae-998dc4406c06",
   "metadata": {},
   "outputs": [],
   "source": [
    "df_ev_merged = data_ev.merge(df_merged, left_on=\"ZIP Code\", right_on=\"GEOG_UNIT\")"
   ]
  },
  {
   "cell_type": "code",
   "execution_count": 81,
   "id": "5e85c0b6-078d-4694-aa18-b7e81e8d6360",
   "metadata": {},
   "outputs": [],
   "source": [
    "df_ev_merged = df_ev_merged.set_geometry(\"geometry_x\")"
   ]
  },
  {
   "cell_type": "code",
   "execution_count": null,
   "id": "6877bb79-ec6e-4fae-bb59-2c6cc0af8955",
   "metadata": {},
   "outputs": [],
   "source": [
    "df_ev_merged.head()"
   ]
  },
  {
   "cell_type": "code",
   "execution_count": null,
   "id": "79053fe7-2041-4331-9e82-59cf62c67043",
   "metadata": {},
   "outputs": [],
   "source": [
    "df_ev_merged.plot(\"HOMEOWNPCT\")"
   ]
  },
  {
   "cell_type": "code",
   "execution_count": null,
   "id": "034654f9-8045-4e89-9f8b-09a4a55042d9",
   "metadata": {},
   "outputs": [],
   "source": [
    "df_ev_merged.plot(\"MEDIANHHI\")"
   ]
  },
  {
   "cell_type": "code",
   "execution_count": null,
   "id": "2831c671-7466-4785-89bf-daee7960a6fc",
   "metadata": {},
   "outputs": [],
   "source": [
    "df_ev_merged.plot(\"EV Count\")"
   ]
  },
  {
   "cell_type": "code",
   "execution_count": 86,
   "id": "452a289b-dc97-4305-a9b0-4aa54c1395bb",
   "metadata": {},
   "outputs": [],
   "source": [
    "prep = df_ev_merged[[\"MEDIANHHI\", \"EV Count\"]]"
   ]
  },
  {
   "cell_type": "code",
   "execution_count": null,
   "id": "cde1f6df-d30f-4f7f-8977-8925a7431cb7",
   "metadata": {},
   "outputs": [],
   "source": [
    "prep.head()"
   ]
  },
  {
   "cell_type": "code",
   "execution_count": 88,
   "id": "06140277-6100-4c13-a00d-dc3cae0b4d57",
   "metadata": {},
   "outputs": [],
   "source": [
    "corrM = prep.corr()"
   ]
  },
  {
   "cell_type": "code",
   "execution_count": null,
   "id": "1db230d9-3667-40a6-bc89-3c02beea6a39",
   "metadata": {},
   "outputs": [],
   "source": [
    "corrM"
   ]
  },
  {
   "cell_type": "code",
   "execution_count": 90,
   "id": "071463d3-d63a-4a15-b8d3-bdc87c839d62",
   "metadata": {},
   "outputs": [],
   "source": [
    "prep_zip = df_ev_merged[[\"ZIP Code\", \"MEDIANHHI\", \"EV Count\"]]"
   ]
  },
  {
   "cell_type": "code",
   "execution_count": 91,
   "id": "87ca0588-122f-414a-a9cb-9b636ea2b788",
   "metadata": {},
   "outputs": [],
   "source": [
    "corrP = prep_zip.corr()"
   ]
  },
  {
   "cell_type": "code",
   "execution_count": null,
   "id": "f67912b6-f721-463f-8d89-549e1e3d1117",
   "metadata": {},
   "outputs": [],
   "source": [
    "corrP"
   ]
  },
  {
   "cell_type": "code",
   "execution_count": 94,
   "id": "8470f9c0-ac0a-4aac-b0d3-fddb9d245d4a",
   "metadata": {},
   "outputs": [],
   "source": [
    "df_select = df_merged[[\"HIGHSCHOOL\", \"SOMECOLLEG\", \"ASSOCIATE\", \"BACHELORS\", \"GRADPROF\", \"R300_399\", \"R400_499\", \"R500_599\",  \"R600_699\", \"R700_799\", \"R800_899\", \"R900_999\", \"R1000_1249\", \"R1250_1499\", \"R1500_1999\", \"R2000UP\",  \"VAL40_69\", \"VAL70_99\", \"VAL100_124\", \"VAL125_149\", \"VAL150_174\", \"VAL175_199\", \"VAL200_249\",  'VAL250_299', 'VAL300_399', 'VAL400_499', 'VAL500_749', 'VAL750_999', 'VAL1MIL', 'MEDIANHHI',  'AGEUNDER18', 'AGE18_39', 'AGE40_64', 'AGE65UP', 'LIVEDALONE', 'MARRKIDS', 'UNMARRKIDS', 'FAMNOKIDS',  'NONFAMILY', 'POPTOTAL']]"
   ]
  },
  {
   "cell_type": "code",
   "execution_count": null,
   "id": "77ac8fa8-03b9-431e-92a2-2467f359baa7",
   "metadata": {},
   "outputs": [],
   "source": [
    "df_select.head()"
   ]
  },
  {
   "cell_type": "code",
   "execution_count": null,
   "id": "82c2f278-88b9-42d8-92a9-4b3179ed7f4a",
   "metadata": {},
   "outputs": [],
   "source": [
    "from sklearn.mixture import GaussianMixture\n",
    "gm = GaussianMixture(n_components=5).fit(df_select.iloc[:,1:3])\n",
    "gm.get_params()"
   ]
  },
  {
   "cell_type": "code",
   "execution_count": null,
   "id": "acea7410-f174-49dd-83eb-600b84da039f",
   "metadata": {},
   "outputs": [],
   "source": [
    "centers = gm.means_\n",
    "print (centers)"
   ]
  },
  {
   "cell_type": "code",
   "execution_count": null,
   "id": "6117a4bf-71e3-49ec-8513-e2eceefa8858",
   "metadata": {},
   "outputs": [],
   "source": [
    "plt.figure(figsize=(8,6))\n",
    "plt.scatter(df_select.iloc[:,1:5], df_select.iloc[:,1:5], label=\"data\")\n",
    "plt.scatter(centers[:,0], centers[:,1],c=\"r\", label=\"centers\")\n",
    "plt.legend()\n",
    "plt.show()"
   ]
  },
  {
   "cell_type": "code",
   "execution_count": null,
   "id": "819e9871-2f97-4b1f-938f-ed965c3a4340",
   "metadata": {},
   "outputs": [],
   "source": [
    "from sklearn.mixture import GaussianMixture\n",
    "gm = GaussianMixture(n_components=9).fit(df_select.iloc[:,1:3])\n",
    "gm.get_params()"
   ]
  },
  {
   "cell_type": "code",
   "execution_count": null,
   "id": "83407e54-43e9-46b8-b34e-c91382a4e550",
   "metadata": {},
   "outputs": [],
   "source": [
    "centers = gm.means_\n",
    "print (centers)"
   ]
  },
  {
   "cell_type": "code",
   "execution_count": null,
   "id": "1a188e90-70f5-404f-9e13-09df23ef6adf",
   "metadata": {},
   "outputs": [],
   "source": [
    "plt.figure(figsize=(8,6))\n",
    "plt.scatter(df_select.iloc[:,1:5], df_select.iloc[:,1:5], label=\"data\")\n",
    "plt.scatter(centers[:,0], centers[:,1],c=\"r\", label=\"centers\")\n",
    "plt.legend()\n",
    "plt.show()"
   ]
  },
  {
   "cell_type": "code",
   "execution_count": null,
   "id": "9916ffcd-a66e-4174-a5b5-33dce139bfa8",
   "metadata": {},
   "outputs": [],
   "source": [
    "from sklearn.mixture import GaussianMixture\n",
    "gm = GaussianMixture(n_components=12).fit(df_select.iloc[:,1:3])\n",
    "gm.get_params()"
   ]
  },
  {
   "cell_type": "code",
   "execution_count": null,
   "id": "eb7584c4-c47b-4f67-be05-4a04cfa98f3f",
   "metadata": {},
   "outputs": [],
   "source": [
    "centers = gm.means_\n",
    "print (centers)"
   ]
  },
  {
   "cell_type": "code",
   "execution_count": null,
   "id": "2a6e023e-076d-409a-95a8-a711f4a215d6",
   "metadata": {},
   "outputs": [],
   "source": [
    "plt.figure(figsize=(8,6))\n",
    "plt.scatter(df_select.iloc[:,1:5], df_select.iloc[:,1:5], label=\"data\")\n",
    "plt.scatter(centers[:,0], centers[:,1],c=\"r\", label=\"centers\")\n",
    "plt.legend()\n",
    "plt.show()"
   ]
  },
  {
   "cell_type": "markdown",
   "id": "6f105f05-09eb-4125-aa4a-16f2a029112a",
   "metadata": {},
   "source": [
    "# § Task: Use the GMM algorithm to cluster the high variance features"
   ]
  },
  {
   "cell_type": "markdown",
   "id": "5c5a230e-7889-43e3-9baa-8b7880e08b9b",
   "metadata": {},
   "source": [
    "## 1.)Use VarianceThreshold on the entire dataset to eleminate features. set threshold=0.4\n",
    "## 2.)Perform GMM as before, this time with just n_components=5\n",
    "## 3.)Make an interactive plot as before, compare this plot with the previous with a 2-3 sentence summary of the differences."
   ]
  },
  {
   "cell_type": "code",
   "execution_count": null,
   "id": "e98811c2-3d96-47fb-ab3f-965052854dd7",
   "metadata": {},
   "outputs": [],
   "source": [
    "from sklearn.feature_selection import VarianceThreshold\n",
    "thresholder = VarianceThreshold(threshold=.4)\n",
    "x_high_variance = thresholder.fit_transform(df_select)\n",
    "print(x_high_variance[0:7])"
   ]
  },
  {
   "cell_type": "code",
   "execution_count": null,
   "id": "8358c5a4-529d-40ba-992d-e0af9dded3d6",
   "metadata": {},
   "outputs": [],
   "source": [
    "ngm = GaussianMixture(n_components=5).fit(x_high_variance)\n",
    "ngm.get_params()"
   ]
  },
  {
   "cell_type": "code",
   "execution_count": null,
   "id": "547c713d-b516-4eca-b942-42a63f98db53",
   "metadata": {},
   "outputs": [],
   "source": [
    "plt.figure(figsize=(8,6))\n",
    "plt.scatter(x_high_variance[:,1:5], x_high_variance[:,1:5], label=\"data\")\n",
    "plt.legend()\n",
    "plt.show()"
   ]
  },
  {
   "cell_type": "code",
   "execution_count": 247,
   "id": "e3cbe6db-43ac-43cd-a8ab-2bb28e93601a",
   "metadata": {},
   "outputs": [],
   "source": [
    "df_move = df_new[[\"ZIP Code\", \"Frequency\"]]"
   ]
  },
  {
   "cell_type": "code",
   "execution_count": 248,
   "id": "9a0c43e8-93d4-40c1-8e4a-6fc0e75ae21f",
   "metadata": {},
   "outputs": [],
   "source": [
    "df_moving = df_move.groupby(\"ZIP Code\").count()"
   ]
  },
  {
   "cell_type": "code",
   "execution_count": null,
   "id": "085ccc48-1a20-4c97-84d1-99ef466377ba",
   "metadata": {},
   "outputs": [],
   "source": [
    "df_moving.head()"
   ]
  },
  {
   "cell_type": "code",
   "execution_count": 250,
   "id": "337846b9-9930-4ba6-9ada-ce93996f53e3",
   "metadata": {},
   "outputs": [],
   "source": [
    "df_moving = pd.DataFrame(df_moving)"
   ]
  },
  {
   "cell_type": "code",
   "execution_count": 251,
   "id": "7e1dd662-5a19-40a9-937b-09baa6bb2adb",
   "metadata": {},
   "outputs": [],
   "source": [
    "df_moving = df_moving.reset_index()"
   ]
  },
  {
   "cell_type": "code",
   "execution_count": 252,
   "id": "c2796587-4306-4d50-a5e4-e1208c311b89",
   "metadata": {},
   "outputs": [],
   "source": [
    "df_moving.columns = [\"ZIP Code\", \"EV Count\"]"
   ]
  },
  {
   "cell_type": "code",
   "execution_count": null,
   "id": "d7e1e40a-0656-439f-8cbc-bf348a21c9fc",
   "metadata": {},
   "outputs": [],
   "source": [
    "df_moving.head()"
   ]
  },
  {
   "cell_type": "code",
   "execution_count": 254,
   "id": "bb9c1563-bb9f-4d0a-baf4-12d0aa5e1779",
   "metadata": {},
   "outputs": [],
   "source": [
    "df_moving_merged = df_moving.merge(df_merged, left_on=\"ZIP Code\", right_on=\"GEOG_UNIT\")"
   ]
  },
  {
   "cell_type": "code",
   "execution_count": 255,
   "id": "3f6007bb-0c89-41e2-9c56-2b3fe4904a84",
   "metadata": {},
   "outputs": [],
   "source": [
    "df_moved_merged = df_moving_merged.set_geometry(\"geometry_x\")"
   ]
  },
  {
   "cell_type": "code",
   "execution_count": null,
   "id": "5a62bbc7-43ee-4cbb-b2fb-b2f92c1bcf74",
   "metadata": {},
   "outputs": [],
   "source": [
    "df_moved_merged.head()"
   ]
  },
  {
   "cell_type": "code",
   "execution_count": 257,
   "id": "88da0348-0dab-46a9-9657-61864db570e2",
   "metadata": {},
   "outputs": [],
   "source": [
    "da_least = df_moved_merged[(df_moved_merged[\"EV Count\"] <= 200)]"
   ]
  },
  {
   "cell_type": "code",
   "execution_count": 261,
   "id": "9c926d8a-2229-4cc7-ac4f-ea52c1f3d978",
   "metadata": {},
   "outputs": [],
   "source": [
    "da_next = df_moved_merged[(df_moved_merged[\"EV Count\"] >= 201) & (df_moved_merged[\"EV Count\"] <= 1000)]"
   ]
  },
  {
   "cell_type": "code",
   "execution_count": 262,
   "id": "8e199f4a-6713-474a-aff4-82ec11ed3286",
   "metadata": {},
   "outputs": [],
   "source": [
    "da_major = df_moved_merged[(df_moved_merged[\"EV Count\"] >= 1001) & (df_moved_merged[\"EV Count\"] <= 2000)]"
   ]
  },
  {
   "cell_type": "code",
   "execution_count": 263,
   "id": "0ff85213-6f88-477a-b07f-2956d573054b",
   "metadata": {},
   "outputs": [],
   "source": [
    "da_max = df_moved_merged[(df_moved_merged[\"EV Count\"] >= 2000)]"
   ]
  },
  {
   "cell_type": "code",
   "execution_count": null,
   "id": "09cc4d04-7527-41f7-a8da-508d3a4fb47a",
   "metadata": {},
   "outputs": [],
   "source": [
    "da_least.plot(\"EV Count\")"
   ]
  },
  {
   "cell_type": "code",
   "execution_count": null,
   "id": "a10afcbc-299a-4ce5-a351-39222d4b204d",
   "metadata": {},
   "outputs": [],
   "source": [
    "da_next.plot(\"EV Count\")"
   ]
  },
  {
   "cell_type": "code",
   "execution_count": null,
   "id": "a4153207-3348-41a9-bfac-3d93537543f9",
   "metadata": {},
   "outputs": [],
   "source": [
    "da_major.plot(\"EV Count\")"
   ]
  },
  {
   "cell_type": "code",
   "execution_count": null,
   "id": "04a59ff5-54ef-4dd7-bbe1-32de228b88d0",
   "metadata": {},
   "outputs": [],
   "source": [
    "da_max.plot(\"EV Count\")"
   ]
  },
  {
   "cell_type": "code",
   "execution_count": null,
   "id": "4e003b03-a636-4516-9dc6-1f764430472f",
   "metadata": {},
   "outputs": [],
   "source": []
  }
 ],
 "metadata": {
  "kernelspec": {
   "display_name": "Python 3",
   "language": "python",
   "name": "python3"
  },
  "language_info": {
   "codemirror_mode": {
    "name": "ipython",
    "version": 3
   },
   "file_extension": ".py",
   "mimetype": "text/x-python",
   "name": "python",
   "nbconvert_exporter": "python",
   "pygments_lexer": "ipython3",
   "version": "3.12.1"
  }
 },
 "nbformat": 4,
 "nbformat_minor": 5
}
